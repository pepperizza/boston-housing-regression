{
 "cells": [
  {
   "cell_type": "code",
   "execution_count": 2,
   "metadata": {},
   "outputs": [
    {
     "name": "stderr",
     "output_type": "stream",
     "text": [
      "<>:9: SyntaxWarning: invalid escape sequence '\\s'\n",
      "<>:9: SyntaxWarning: invalid escape sequence '\\s'\n",
      "/var/folders/wb/kbfflkgd24l9kfh0dvs2fsj40000gn/T/ipykernel_64385/3456237854.py:9: SyntaxWarning: invalid escape sequence '\\s'\n",
      "  boston = pd.read_csv(\"https://archive.ics.uci.edu/ml/machine-learning-databases/housing/housing.data\", sep=\"\\s+\",\n"
     ]
    },
    {
     "data": {
      "text/html": [
       "<div>\n",
       "<style scoped>\n",
       "    .dataframe tbody tr th:only-of-type {\n",
       "        vertical-align: middle;\n",
       "    }\n",
       "\n",
       "    .dataframe tbody tr th {\n",
       "        vertical-align: top;\n",
       "    }\n",
       "\n",
       "    .dataframe thead th {\n",
       "        text-align: right;\n",
       "    }\n",
       "</style>\n",
       "<table border=\"1\" class=\"dataframe\">\n",
       "  <thead>\n",
       "    <tr style=\"text-align: right;\">\n",
       "      <th></th>\n",
       "      <th>CRIM</th>\n",
       "      <th>ZN</th>\n",
       "      <th>INDUS</th>\n",
       "      <th>CHAS</th>\n",
       "      <th>NOX</th>\n",
       "      <th>RM</th>\n",
       "      <th>AGE</th>\n",
       "      <th>DIS</th>\n",
       "      <th>RAD</th>\n",
       "      <th>TAX</th>\n",
       "      <th>PRATIO</th>\n",
       "      <th>B</th>\n",
       "      <th>LSTAT</th>\n",
       "      <th>MEDV</th>\n",
       "    </tr>\n",
       "  </thead>\n",
       "  <tbody>\n",
       "    <tr>\n",
       "      <th>0</th>\n",
       "      <td>0.00632</td>\n",
       "      <td>18.0</td>\n",
       "      <td>2.31</td>\n",
       "      <td>0</td>\n",
       "      <td>0.538</td>\n",
       "      <td>6.575</td>\n",
       "      <td>65.2</td>\n",
       "      <td>4.0900</td>\n",
       "      <td>1</td>\n",
       "      <td>296.0</td>\n",
       "      <td>15.3</td>\n",
       "      <td>396.90</td>\n",
       "      <td>4.98</td>\n",
       "      <td>24.0</td>\n",
       "    </tr>\n",
       "    <tr>\n",
       "      <th>1</th>\n",
       "      <td>0.02731</td>\n",
       "      <td>0.0</td>\n",
       "      <td>7.07</td>\n",
       "      <td>0</td>\n",
       "      <td>0.469</td>\n",
       "      <td>6.421</td>\n",
       "      <td>78.9</td>\n",
       "      <td>4.9671</td>\n",
       "      <td>2</td>\n",
       "      <td>242.0</td>\n",
       "      <td>17.8</td>\n",
       "      <td>396.90</td>\n",
       "      <td>9.14</td>\n",
       "      <td>21.6</td>\n",
       "    </tr>\n",
       "    <tr>\n",
       "      <th>2</th>\n",
       "      <td>0.02729</td>\n",
       "      <td>0.0</td>\n",
       "      <td>7.07</td>\n",
       "      <td>0</td>\n",
       "      <td>0.469</td>\n",
       "      <td>7.185</td>\n",
       "      <td>61.1</td>\n",
       "      <td>4.9671</td>\n",
       "      <td>2</td>\n",
       "      <td>242.0</td>\n",
       "      <td>17.8</td>\n",
       "      <td>392.83</td>\n",
       "      <td>4.03</td>\n",
       "      <td>34.7</td>\n",
       "    </tr>\n",
       "    <tr>\n",
       "      <th>3</th>\n",
       "      <td>0.03237</td>\n",
       "      <td>0.0</td>\n",
       "      <td>2.18</td>\n",
       "      <td>0</td>\n",
       "      <td>0.458</td>\n",
       "      <td>6.998</td>\n",
       "      <td>45.8</td>\n",
       "      <td>6.0622</td>\n",
       "      <td>3</td>\n",
       "      <td>222.0</td>\n",
       "      <td>18.7</td>\n",
       "      <td>394.63</td>\n",
       "      <td>2.94</td>\n",
       "      <td>33.4</td>\n",
       "    </tr>\n",
       "    <tr>\n",
       "      <th>4</th>\n",
       "      <td>0.06905</td>\n",
       "      <td>0.0</td>\n",
       "      <td>2.18</td>\n",
       "      <td>0</td>\n",
       "      <td>0.458</td>\n",
       "      <td>7.147</td>\n",
       "      <td>54.2</td>\n",
       "      <td>6.0622</td>\n",
       "      <td>3</td>\n",
       "      <td>222.0</td>\n",
       "      <td>18.7</td>\n",
       "      <td>396.90</td>\n",
       "      <td>5.33</td>\n",
       "      <td>36.2</td>\n",
       "    </tr>\n",
       "  </tbody>\n",
       "</table>\n",
       "</div>"
      ],
      "text/plain": [
       "      CRIM    ZN  INDUS  CHAS    NOX     RM   AGE     DIS  RAD    TAX  PRATIO  \\\n",
       "0  0.00632  18.0   2.31     0  0.538  6.575  65.2  4.0900    1  296.0    15.3   \n",
       "1  0.02731   0.0   7.07     0  0.469  6.421  78.9  4.9671    2  242.0    17.8   \n",
       "2  0.02729   0.0   7.07     0  0.469  7.185  61.1  4.9671    2  242.0    17.8   \n",
       "3  0.03237   0.0   2.18     0  0.458  6.998  45.8  6.0622    3  222.0    18.7   \n",
       "4  0.06905   0.0   2.18     0  0.458  7.147  54.2  6.0622    3  222.0    18.7   \n",
       "\n",
       "        B  LSTAT  MEDV  \n",
       "0  396.90   4.98  24.0  \n",
       "1  396.90   9.14  21.6  \n",
       "2  392.83   4.03  34.7  \n",
       "3  394.63   2.94  33.4  \n",
       "4  396.90   5.33  36.2  "
      ]
     },
     "execution_count": 2,
     "metadata": {},
     "output_type": "execute_result"
    }
   ],
   "source": [
    "import pandas as pd\n",
    "import numpy as np \n",
    "from sklearn.linear_model import LinearRegression\n",
    "from sklearn.preprocessing import PolynomialFeatures\n",
    "from sklearn.model_selection import train_test_split\n",
    "from sklearn.metrics import mean_squared_error, r2_score\n",
    "from sklearn.preprocessing import StandardScaler\n",
    "\n",
    "boston = pd.read_csv(\"https://archive.ics.uci.edu/ml/machine-learning-databases/housing/housing.data\", sep=\"\\s+\",\n",
    "                     names=[\"CRIM\",\"ZN\",\"INDUS\",\"CHAS\",\"NOX\",\"RM\",\"AGE\",\"DIS\",\"RAD\",\"TAX\",\"PRATIO\",\"B\",\"LSTAT\",\"MEDV\"])\n",
    "boston.head()"
   ]
  },
  {
   "cell_type": "code",
   "execution_count": 3,
   "metadata": {},
   "outputs": [],
   "source": [
    "X = boston.drop('MEDV',axis=1).values\n",
    "Y = boston['MEDV'].values\n",
    "\n",
    "X_train, X_test, Y_train, Y_test = train_test_split(X, Y, test_size=0.3, random_state=0)"
   ]
  },
  {
   "cell_type": "code",
   "execution_count": 4,
   "metadata": {},
   "outputs": [
    {
     "data": {
      "text/plain": [
       "(354, 105)"
      ]
     },
     "execution_count": 4,
     "metadata": {},
     "output_type": "execute_result"
    }
   ],
   "source": [
    "#creo le features polinomiali per creare il problema dell'overfitting\n",
    "poly_feats = PolynomialFeatures(degree=2)                               #proprietà polinomiali fino al 2 grado\n",
    "X_train_poly = poly_feats.fit_transform(X_train)\n",
    "X_test_poly = poly_feats.transform(X_test)\n",
    "\n",
    "X_train_poly.shape                                                  #modello estremamente complesso (354 esempi, 105 proprietà)"
   ]
  },
  {
   "cell_type": "code",
   "execution_count": 6,
   "metadata": {},
   "outputs": [],
   "source": [
    "#standardizzo il dataset prima della regressione\n",
    "ss = StandardScaler()\n",
    "X_train_poly = ss.fit_transform(X_train_poly)\n",
    "X_test_poly = ss.transform(X_test_poly)"
   ]
  },
  {
   "cell_type": "code",
   "execution_count": 9,
   "metadata": {},
   "outputs": [
    {
     "name": "stdout",
     "output_type": "stream",
     "text": [
      "MSE per training: 4.116985074931483\n",
      "R2 per training: 0.9489872442434962\n",
      "MSE per training: 29.550444547161902\n",
      "R2 per training: 0.6975947899468182\n"
     ]
    }
   ],
   "source": [
    "lr = LinearRegression()\n",
    "lr.fit(X_train_poly, Y_train)\n",
    "#eseguo la predizione sul training set piuttosto che sul test set\n",
    "Y_pred_train = lr.predict(X_train_poly)\n",
    "\n",
    "mse_train = mean_squared_error(Y_pred_train, Y_train)\n",
    "r2_train = r2_score(Y_pred_train, Y_train)\n",
    "print(\"MSE per training: \" +str(mse_train))\n",
    "print(\"R2 per training: \" +str(r2_train))               #Errore molto basso e punteggio molto alto -> modello ottimo? vediamo come performa sul test set\n",
    "\n",
    "Y_pred_test = lr.predict(X_test_poly)\n",
    "\n",
    "mse_test = mean_squared_error(Y_pred_test, Y_test)\n",
    "r2_test = r2_score(Y_pred_test, Y_test)\n",
    "print(\"MSE per test: \" +str(mse_test))\n",
    "print(\"R2 per test: \" +str(r2_test))                #Errore molto alto e punteggio basso -> OVERFITTING"
   ]
  },
  {
   "cell_type": "markdown",
   "metadata": {},
   "source": [
    "Regolarizzazione L2 per l'overfitting"
   ]
  },
  {
   "cell_type": "code",
   "execution_count": 14,
   "metadata": {},
   "outputs": [
    {
     "name": "stdout",
     "output_type": "stream",
     "text": [
      "ALPHA=0.0001\n",
      "MSE per training: 4.099263404864359 R2 per training: 0.9491693108936194\n",
      "MSE per test: 28.9176184637223 R2 per test: 0.7004105533610578\n",
      "ALPHA=0.001\n",
      "MSE per training: 4.1135025099425695 R2 per training: 0.9489389789826518\n",
      "MSE per test: 28.420009267640413 R2 per test: 0.7028044782421446\n",
      "ALPHA=0.01\n",
      "MSE per training: 4.2082061272373465 R2 per training: 0.9474714022331885\n",
      "MSE per test: 26.81329501829148 R2 per test: 0.7093928621764054\n",
      "ALPHA=0.1\n",
      "MSE per training: 4.747028830953304 R2 per training: 0.9399140725675383\n",
      "MSE per test: 23.63175511737035 R2 per test: 0.7268152606270204\n",
      "ALPHA=1.0\n",
      "MSE per training: 5.87594730534178 R2 per training: 0.9231147673228387\n",
      "MSE per test: 17.634584627531336 R2 per test: 0.77084019159856\n",
      "ALPHA=10\n",
      "MSE per training: 8.812755521737886 R2 per training: 0.8752076591659455\n",
      "MSE per test: 17.159715774774316 R2 per test: 0.7458268471061418\n"
     ]
    }
   ],
   "source": [
    "from sklearn.linear_model import Ridge\n",
    "alphas = [0.0001, 0.001, 0.01, 0.1, 1., 10,]            #possibili valori dell'iperparametro alpha\n",
    "for alpha in alphas:\n",
    "    print(\"ALPHA=\" +str(alpha))\n",
    "    model = Ridge(alpha=alpha)\n",
    "    model.fit(X_train_poly, Y_train)\n",
    "    \n",
    "    #eseguo le predizioni sia sul train che sul test set\n",
    "    Y_pred_train = model.predict(X_train_poly)\n",
    "    Y_pred_test = model.predict(X_test_poly)\n",
    "    mse_train = mean_squared_error(Y_pred_train, Y_train)\n",
    "    mse_test = mean_squared_error(Y_pred_test, Y_test)\n",
    "    r2_train = r2_score(Y_pred_train, Y_train)\n",
    "    r2_test = r2_score(Y_pred_test, Y_test)\n",
    "    print(\"MSE per training: \" +str(mse_train) + \" R2 per training: \" +str(r2_train))\n",
    "    print(\"MSE per test: \" +str(mse_test)+ \" R2 per test: \" +str(r2_test))           #il punteggio migliore si ha per valori di aplha=10\n",
    "#MSE di test è il più basso (17.15) → il modello ha la migliore capacità di generalizzazione.\n",
    "#R² di test (0.7458) è alto → il modello spiega bene la varianza senza eccessivo overfitting.\n",
    "#MSE di training aumenta (8.81) → significa che il modello è più regolarizzato e meno incline al sovradattamento."
   ]
  },
  {
   "cell_type": "markdown",
   "metadata": {},
   "source": [
    "Regolarizzazione L2 per l'overfitting"
   ]
  },
  {
   "cell_type": "code",
   "execution_count": 13,
   "metadata": {},
   "outputs": [
    {
     "name": "stdout",
     "output_type": "stream",
     "text": [
      "ALPHA=0.0001\n",
      "MSE per training: 5.391123652697103 R2 per training: 0.9319016473138058\n",
      "MSE per test: 29.701776720600684 R2 per test: 0.6578075263506309\n",
      "ALPHA=0.001\n",
      "MSE per training: 5.407317548867132 R2 per training: 0.931445534004468\n",
      "MSE per test: 28.78801855730682 R2 per test: 0.6648236745082188\n",
      "ALPHA=0.01\n",
      "MSE per training: 6.063858816900331 R2 per training: 0.9208898979105544\n",
      "MSE per test: 22.93324201265608 R2 per test: 0.7193170700220337\n",
      "ALPHA=0.1\n",
      "MSE per training: 11.833211121207539 R2 per training: 0.8249529309910117\n",
      "MSE per test: 19.296152342816367 R2 per test: 0.6899597066684204\n",
      "ALPHA=1.0\n",
      "MSE per training: 21.590985067091985 R2 per training: 0.5286025713768555\n",
      "MSE per test: 27.258043145129136 R2 per test: 0.37369795557404095\n",
      "ALPHA=10\n",
      "MSE per training: 84.76451346994796 R2 per training: 0.0\n",
      "MSE per test: 83.76673764512785 R2 per test: 0.0\n"
     ]
    },
    {
     "name": "stderr",
     "output_type": "stream",
     "text": [
      "/opt/anaconda3/lib/python3.12/site-packages/sklearn/linear_model/_coordinate_descent.py:697: ConvergenceWarning: Objective did not converge. You might want to increase the number of iterations, check the scale of the features or consider increasing regularisation. Duality gap: 9.490e+02, tolerance: 3.001e+00\n",
      "  model = cd_fast.enet_coordinate_descent(\n",
      "/opt/anaconda3/lib/python3.12/site-packages/sklearn/linear_model/_coordinate_descent.py:697: ConvergenceWarning: Objective did not converge. You might want to increase the number of iterations, check the scale of the features or consider increasing regularisation. Duality gap: 8.866e+02, tolerance: 3.001e+00\n",
      "  model = cd_fast.enet_coordinate_descent(\n",
      "/opt/anaconda3/lib/python3.12/site-packages/sklearn/linear_model/_coordinate_descent.py:697: ConvergenceWarning: Objective did not converge. You might want to increase the number of iterations, check the scale of the features or consider increasing regularisation. Duality gap: 5.049e+02, tolerance: 3.001e+00\n",
      "  model = cd_fast.enet_coordinate_descent(\n"
     ]
    }
   ],
   "source": [
    "#importo il dataset lasso\n",
    "from sklearn.linear_model import Lasso\n",
    "#riutilizzo il codice del blocco sopra\n",
    "alphas = [0.0001, 0.001, 0.01, 0.1, 1., 10,]            #possibili valori dell'iperparametro alpha\n",
    "for alpha in alphas:\n",
    "    print(\"ALPHA=\" +str(alpha))\n",
    "    model = Lasso(alpha=alpha)\n",
    "    model.fit(X_train_poly, Y_train)\n",
    "    \n",
    "    #eseguo le predizioni sia sul train che sul test set\n",
    "    Y_pred_train = model.predict(X_train_poly)\n",
    "    Y_pred_test = model.predict(X_test_poly)\n",
    "    mse_train = mean_squared_error(Y_pred_train, Y_train)\n",
    "    mse_test = mean_squared_error(Y_pred_test, Y_test)\n",
    "    r2_train = r2_score(Y_pred_train, Y_train)\n",
    "    r2_test = r2_score(Y_pred_test, Y_test)\n",
    "    print(\"MSE per training: \" +str(mse_train) + \" R2 per training: \" +str(r2_train))\n",
    "    print(\"MSE per test: \" +str(mse_test)+ \" R2 per test: \" +str(r2_test))       #punteggio migliore per aplha=0.1\n",
    "#MSE di test è minimo (19.29) -> migliore generalizzazione.\n",
    "#R2 di test (0.6899) è alto -> indica che il modello spiega bene la varianza dei dati di test.\n",
    "#MSE di training aumenta un po', il modello è più semplice e meno incline all'overfitting."
   ]
  },
  {
   "cell_type": "markdown",
   "metadata": {},
   "source": [
    "Elasticnet per combinare le regolarizzazioni L1 ed L2"
   ]
  },
  {
   "cell_type": "code",
   "execution_count": 15,
   "metadata": {},
   "outputs": [
    {
     "name": "stdout",
     "output_type": "stream",
     "text": [
      "ALPHA=0.0001\n",
      "MSE per training: 5.391059281137915 R2 per training: 0.9318342684736182\n",
      "MSE per test: 29.466017582883342 R2 per test: 0.659769605157168\n",
      "ALPHA=0.001\n",
      "MSE per training: 5.463124643400424 R2 per training: 0.9301999073618576\n",
      "MSE per test: 26.23899793865848 R2 per test: 0.6869076041372015\n",
      "ALPHA=0.01\n",
      "MSE per training: 6.669947875220289 R2 per training: 0.9109107527583874\n",
      "MSE per test: 15.78442472698635 R2 per test: 0.784377065673517\n",
      "ALPHA=0.1\n",
      "MSE per training: 12.092531251957974 R2 per training: 0.8163279674919248\n",
      "MSE per test: 20.123693597792258 R2 per test: 0.6717322148874648\n",
      "ALPHA=1.0\n",
      "MSE per training: 21.178857007859765 R2 per training: 0.5493858787176467\n",
      "MSE per test: 27.923580301576497 R2 per test: 0.37588929686229\n",
      "ALPHA=10\n",
      "MSE per training: 70.28359861834348 R2 per training: -64.51072945797367\n",
      "MSE per test: 69.68198552608109 R2 per test: -61.422059153377\n"
     ]
    },
    {
     "name": "stderr",
     "output_type": "stream",
     "text": [
      "/opt/anaconda3/lib/python3.12/site-packages/sklearn/linear_model/_coordinate_descent.py:697: ConvergenceWarning: Objective did not converge. You might want to increase the number of iterations, check the scale of the features or consider increasing regularisation. Duality gap: 9.665e+02, tolerance: 3.001e+00\n",
      "  model = cd_fast.enet_coordinate_descent(\n",
      "/opt/anaconda3/lib/python3.12/site-packages/sklearn/linear_model/_coordinate_descent.py:697: ConvergenceWarning: Objective did not converge. You might want to increase the number of iterations, check the scale of the features or consider increasing regularisation. Duality gap: 1.014e+03, tolerance: 3.001e+00\n",
      "  model = cd_fast.enet_coordinate_descent(\n",
      "/opt/anaconda3/lib/python3.12/site-packages/sklearn/linear_model/_coordinate_descent.py:697: ConvergenceWarning: Objective did not converge. You might want to increase the number of iterations, check the scale of the features or consider increasing regularisation. Duality gap: 9.930e+02, tolerance: 3.001e+00\n",
      "  model = cd_fast.enet_coordinate_descent(\n"
     ]
    }
   ],
   "source": [
    "from sklearn.linear_model import ElasticNet\n",
    "#riutilizzo lo stesso codice\n",
    "alphas = [0.0001, 0.001, 0.01, 0.1, 1., 10,]            #possibili valori dell'iperparametro alpha\n",
    "for alpha in alphas:\n",
    "    print(\"ALPHA=\" +str(alpha))\n",
    "    model = ElasticNet(alpha=alpha, l1_ratio=0.5)       #l1ratio per dare lo stesso peso alle due regolarizzazioni\n",
    "    model.fit(X_train_poly, Y_train)\n",
    "    \n",
    "    #eseguo le predizioni sia sul train che sul test set\n",
    "    Y_pred_train = model.predict(X_train_poly)\n",
    "    Y_pred_test = model.predict(X_test_poly)\n",
    "    mse_train = mean_squared_error(Y_pred_train, Y_train)\n",
    "    mse_test = mean_squared_error(Y_pred_test, Y_test)\n",
    "    r2_train = r2_score(Y_pred_train, Y_train)\n",
    "    r2_test = r2_score(Y_pred_test, Y_test)\n",
    "    print(\"MSE per training: \" +str(mse_train) + \" R2 per training: \" +str(r2_train))\n",
    "    print(\"MSE per test: \" +str(mse_test)+ \" R2 per test: \" +str(r2_test)) \n",
    "#il modello performa meglio rispetto alle normaizzazioni l1 e 2, miglior punteggio per aplha=0.1\n",
    "#E FONDAMENTALE AVERE IL DATASET SULLA STESSA SCALA, QUINDI NORMALIZZAZIONE O STANDARDIZZAZIONE COME QUI"
   ]
  }
 ],
 "metadata": {
  "kernelspec": {
   "display_name": "base",
   "language": "python",
   "name": "python3"
  },
  "language_info": {
   "codemirror_mode": {
    "name": "ipython",
    "version": 3
   },
   "file_extension": ".py",
   "mimetype": "text/x-python",
   "name": "python",
   "nbconvert_exporter": "python",
   "pygments_lexer": "ipython3",
   "version": "3.12.2"
  }
 },
 "nbformat": 4,
 "nbformat_minor": 2
}
